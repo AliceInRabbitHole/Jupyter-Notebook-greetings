{
 "cells": [
  {
   "cell_type": "markdown",
   "id": "c583f2c1-908c-4fe7-8143-3da68d31cbe4",
   "metadata": {},
   "source": [
    "Welcome to my Jupyter Note!"
   ]
  },
  {
   "cell_type": "markdown",
   "id": "b93d9716-547c-46cd-950a-0b624ebe3118",
   "metadata": {},
   "source": [
    "This is a markdown cell！"
   ]
  },
  {
   "cell_type": "code",
   "execution_count": 3,
   "id": "8148f887-d28a-4468-be58-7ff58cc2a730",
   "metadata": {},
   "outputs": [
    {
     "name": "stdout",
     "output_type": "stream",
     "text": [
      "This is a code cell！\n"
     ]
    }
   ],
   "source": [
    "print(\"This is a code cell！\")"
   ]
  },
  {
   "cell_type": "markdown",
   "id": "05222ff1-16da-4e9b-8658-8f39a2fb73f7",
   "metadata": {},
   "source": [
    "Good Luck！"
   ]
  },
  {
   "cell_type": "code",
   "execution_count": null,
   "id": "99611a68-65ba-4c3e-80ca-78f4029963ae",
   "metadata": {},
   "outputs": [],
   "source": []
  }
 ],
 "metadata": {
  "kernelspec": {
   "display_name": "Python",
   "language": "python",
   "name": "conda-env-python-py"
  },
  "language_info": {
   "codemirror_mode": {
    "name": "ipython",
    "version": 3
   },
   "file_extension": ".py",
   "mimetype": "text/x-python",
   "name": "python",
   "nbconvert_exporter": "python",
   "pygments_lexer": "ipython3",
   "version": "3.7.10"
  },
  "toc-autonumbering": true
 },
 "nbformat": 4,
 "nbformat_minor": 5
}
